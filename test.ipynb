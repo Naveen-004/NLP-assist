{
 "cells": [
  {
   "cell_type": "markdown",
   "metadata": {},
   "source": [
    "### **Importing required Libraries**"
   ]
  },
  {
   "cell_type": "code",
   "execution_count": 1,
   "metadata": {},
   "outputs": [],
   "source": [
    "import re\n",
    "import nltk\n",
    "import spacy\n",
    "import demoji\n",
    "import pandas as pd \n",
    "import seaborn as sns\n",
    "from textblob import TextBlob\n",
    "from nltk import word_tokenize\n",
    "from wordcloud import WordCloud\n",
    "from nltk.corpus import stopwords\n",
    "from langdetect import detect_langs\n",
    "from matplotlib import pyplot as plt\n",
    "import snscrape.modules.twitter as sntwitter\n",
    "from spacy.lang.en.stop_words import STOP_WORDS"
   ]
  },
  {
   "cell_type": "code",
   "execution_count": 7,
   "metadata": {},
   "outputs": [
    {
     "name": "stderr",
     "output_type": "stream",
     "text": [
      "C:\\Users\\chinn\\AppData\\Local\\Temp\\ipykernel_18932\\3242638163.py:4: FutureWarning:\n",
      "\n",
      "Passing a negative integer is deprecated in version 1.0 and will not be supported in future version. Instead, use None to not limit the column width.\n",
      "\n"
     ]
    }
   ],
   "source": [
    "# Datafram output view setup\n",
    "pd.set_option('display.max_columns', None)\n",
    "pd.set_option('display.expand_frame_repr', False)\n",
    "pd.set_option('max_colwidth',-1)"
   ]
  },
  {
   "cell_type": "markdown",
   "metadata": {},
   "source": [
    "### **Data collection**"
   ]
  },
  {
   "cell_type": "code",
   "execution_count": 8,
   "metadata": {},
   "outputs": [
    {
     "data": {
      "text/html": [
       "<div>\n",
       "<style scoped>\n",
       "    .dataframe tbody tr th:only-of-type {\n",
       "        vertical-align: middle;\n",
       "    }\n",
       "\n",
       "    .dataframe tbody tr th {\n",
       "        vertical-align: top;\n",
       "    }\n",
       "\n",
       "    .dataframe thead th {\n",
       "        text-align: right;\n",
       "    }\n",
       "</style>\n",
       "<table border=\"1\" class=\"dataframe\">\n",
       "  <thead>\n",
       "    <tr style=\"text-align: right;\">\n",
       "      <th></th>\n",
       "      <th>User</th>\n",
       "      <th>Date Created</th>\n",
       "      <th>Number of likes</th>\n",
       "      <th>Source of tweet</th>\n",
       "      <th>Tweets</th>\n",
       "    </tr>\n",
       "  </thead>\n",
       "  <tbody>\n",
       "    <tr>\n",
       "      <th>0</th>\n",
       "      <td>ISLAND_THUNDER</td>\n",
       "      <td>2022-07-31 23:59:38+00:00</td>\n",
       "      <td>5</td>\n",
       "      <td>Twitter for iPhone</td>\n",
       "      <td>@fiant47 @Darkcrystal_fin @HopSwapFinance @THNDR_Token @chriskaleher @d3x_justin @cryptokuka @NewsCronos @RamenCash @That_FedEx_Guy @Blockchainwork5 @BradVonCroNos I been tellin y’all!!! LFG⚡️💎🚀🚀🚀 https://t.co/DfeWRrNvNo</td>\n",
       "    </tr>\n",
       "    <tr>\n",
       "      <th>1</th>\n",
       "      <td>MawResister</td>\n",
       "      <td>2022-07-31 23:59:35+00:00</td>\n",
       "      <td>0</td>\n",
       "      <td>Twitter for iPhone</td>\n",
       "      <td>@williamlegate @Jacquel25102704 My brother in law’s ashes were buried in a brown FedEx box. 🙄</td>\n",
       "    </tr>\n",
       "    <tr>\n",
       "      <th>2</th>\n",
       "      <td>CoonenWill</td>\n",
       "      <td>2022-07-31 23:58:37+00:00</td>\n",
       "      <td>0</td>\n",
       "      <td>Twitter for iPhone</td>\n",
       "      <td>I’m confused. @PGATOUR cannonballs into a pool of #saudibloodmoney then runs it through their personal laundromat known as the @FedEx Cup=FINE\\n@LIVGolfInv is at least honest about the source=HORRIBLE. #Hypocrisy https://t.co/lTT2Fb63Nx</td>\n",
       "    </tr>\n",
       "    <tr>\n",
       "      <th>3</th>\n",
       "      <td>ISLAND_THUNDER</td>\n",
       "      <td>2022-07-31 23:58:31+00:00</td>\n",
       "      <td>4</td>\n",
       "      <td>Twitter for iPhone</td>\n",
       "      <td>@Darkcrystal_fin @HopSwapFinance @THNDR_Token @chriskaleher @d3x_justin @cryptokuka @NewsCronos @RamenCash @That_FedEx_Guy @Blockchainwork5 @BradVonCroNos LFG @Darkcrystal_fin #GangGang🌴✊🏽♾ https://t.co/LpUERAOtZc</td>\n",
       "    </tr>\n",
       "    <tr>\n",
       "      <th>4</th>\n",
       "      <td>graybrigade</td>\n",
       "      <td>2022-07-31 23:58:02+00:00</td>\n",
       "      <td>1</td>\n",
       "      <td>Twitter for iPhone</td>\n",
       "      <td>@TracksideMikeN @K_Kisner Like you said a lot of guys trying to get to FedEx.  Similar to the old Fall lineup guys trying to keep Tour card….</td>\n",
       "    </tr>\n",
       "  </tbody>\n",
       "</table>\n",
       "</div>"
      ],
      "text/plain": [
       "             User              Date Created  Number of likes     Source of tweet                                                                                                                                                                                                                                        Tweets\n",
       "0  ISLAND_THUNDER 2022-07-31 23:59:38+00:00  5                Twitter for iPhone  @fiant47 @Darkcrystal_fin @HopSwapFinance @THNDR_Token @chriskaleher @d3x_justin @cryptokuka @NewsCronos @RamenCash @That_FedEx_Guy @Blockchainwork5 @BradVonCroNos I been tellin y’all!!! LFG⚡️💎🚀🚀🚀 https://t.co/DfeWRrNvNo                \n",
       "1  MawResister    2022-07-31 23:59:35+00:00  0                Twitter for iPhone  @williamlegate @Jacquel25102704 My brother in law’s ashes were buried in a brown FedEx box. 🙄                                                                                                                                               \n",
       "2  CoonenWill     2022-07-31 23:58:37+00:00  0                Twitter for iPhone  I’m confused. @PGATOUR cannonballs into a pool of #saudibloodmoney then runs it through their personal laundromat known as the @FedEx Cup=FINE\\n@LIVGolfInv is at least honest about the source=HORRIBLE. #Hypocrisy https://t.co/lTT2Fb63Nx\n",
       "3  ISLAND_THUNDER 2022-07-31 23:58:31+00:00  4                Twitter for iPhone  @Darkcrystal_fin @HopSwapFinance @THNDR_Token @chriskaleher @d3x_justin @cryptokuka @NewsCronos @RamenCash @That_FedEx_Guy @Blockchainwork5 @BradVonCroNos LFG @Darkcrystal_fin #GangGang🌴✊🏽♾ https://t.co/LpUERAOtZc                       \n",
       "4  graybrigade    2022-07-31 23:58:02+00:00  1                Twitter for iPhone  @TracksideMikeN @K_Kisner Like you said a lot of guys trying to get to FedEx.  Similar to the old Fall lineup guys trying to keep Tour card….                                                                                               "
      ]
     },
     "execution_count": 8,
     "metadata": {},
     "output_type": "execute_result"
    }
   ],
   "source": [
    "attributes_container = []\n",
    "# dir(snscrape.modules.twitter)\n",
    "# sntwitter.TwitterUserScraper() - for any twitter user fetch\n",
    "for i, tweet in enumerate(sntwitter.TwitterSearchScraper('fedex since:2021-08-01 until:2022-08-01').get_items()):\n",
    "    if i>1000:\n",
    "        break\n",
    "    attributes_container.append([tweet.user.username, tweet.date, tweet.likeCount, tweet.sourceLabel, tweet.content])\n",
    "df = pd.DataFrame(attributes_container, columns=[\"User\",\"Date Created\",\"Number of likes\", \"Source of tweet\", \"Tweets\"])\n",
    "df.head()"
   ]
  },
  {
   "cell_type": "markdown",
   "metadata": {},
   "source": [
    "### **Data Cleaning**"
   ]
  },
  {
   "cell_type": "code",
   "execution_count": 9,
   "metadata": {},
   "outputs": [],
   "source": [
    "def textclean(text):\n",
    "    text = re.sub(r'@[A-Za-z0-9]+', '', text) # removed @mentions\n",
    "    text = re.sub(r'#','',text) # remove the hash tag\n",
    "    text = re.sub(r'RT[\\s]+','',text) # remove RT\n",
    "    text = re.sub(r'https?:\\/\\/\\S+','',text) # Remove the hyper link\n",
    "    text = re.sub(r'&amp;','',text) # remove &amp;\n",
    "    text = re.sub(r'\\s{2,}',' ', text)  # remove extra spaces\n",
    "    text = re.sub(r'^\\s+','',text)  # remove starting extra spaces\n",
    "    return text\n",
    "\n",
    "def clean(text):\n",
    "    emoji = demoji.findall(text)\n",
    "    for emot in emoji:\n",
    "        text = re.sub(r\"(%s)\" % (emot), \"_\".join(emoji[emot].split()), text)\n",
    "    return text\n",
    "\n",
    "\n",
    "def nostopwords(text):\n",
    "  nlp = spacy.load('en_core_web_sm')\n",
    "  sentence = nlp(text)\n",
    "  text = [word.text.strip() for word in sentence if not word.is_stop and not word.is_punct]\n",
    "  return text\n",
    "\n",
    "def n_words(df):\n",
    "  tweet_tokens = [word_tokenize(item) for item in df.Tweets]\n",
    "  len_tokens = []\n",
    "  for i in range(len(tweet_tokens)):\n",
    "    len_tokens.append(len(tweet_tokens[i]))\n",
    "  return len_tokens\n",
    "\n",
    "def getLanguages(df):\n",
    "  languages = []\n",
    "  for row in range(len(df)):\n",
    "    languages.append(detect_langs(df.iloc[row, 3]))\n",
    "  languages = [str(lang).split(':')[0][1:] for lang in languages]\n",
    "  return languages\n",
    "    \n",
    "\n",
    "def getSubjectivity(text):\n",
    "  return TextBlob(text).sentiment.subjectivity  # type: ignore\n",
    "def getPolarity(text):\n",
    "  return TextBlob(text).sentiment.polarity  # type: ignore\n",
    "\n",
    "def getSentiment(score):\n",
    "  if score < 0:\n",
    "    return \"Negative\"\n",
    "  if score == 0:\n",
    "    return \"Neutral\"\n",
    "  else:\n",
    "    return \"Positive\"\n"
   ]
  },
  {
   "cell_type": "code",
   "execution_count": 10,
   "metadata": {},
   "outputs": [
    {
     "data": {
      "text/html": [
       "<div>\n",
       "<style scoped>\n",
       "    .dataframe tbody tr th:only-of-type {\n",
       "        vertical-align: middle;\n",
       "    }\n",
       "\n",
       "    .dataframe tbody tr th {\n",
       "        vertical-align: top;\n",
       "    }\n",
       "\n",
       "    .dataframe thead th {\n",
       "        text-align: right;\n",
       "    }\n",
       "</style>\n",
       "<table border=\"1\" class=\"dataframe\">\n",
       "  <thead>\n",
       "    <tr style=\"text-align: right;\">\n",
       "      <th></th>\n",
       "      <th>User</th>\n",
       "      <th>Date Created</th>\n",
       "      <th>Number of likes</th>\n",
       "      <th>Source of tweet</th>\n",
       "      <th>Tweets</th>\n",
       "      <th>Subjectivity</th>\n",
       "      <th>Polarity</th>\n",
       "      <th>n_words</th>\n",
       "      <th>languages</th>\n",
       "      <th>sentiment</th>\n",
       "    </tr>\n",
       "  </thead>\n",
       "  <tbody>\n",
       "    <tr>\n",
       "      <th>0</th>\n",
       "      <td>ISLAND_THUNDER</td>\n",
       "      <td>2022-07-31 23:59:38+00:00</td>\n",
       "      <td>5</td>\n",
       "      <td>Twitter for iPhone</td>\n",
       "      <td>_fin _Token _justin _FedEx_Guy I been tellin y’all!!! LFG⚡️💎🚀🚀🚀</td>\n",
       "      <td>0.000</td>\n",
       "      <td>0.000</td>\n",
       "      <td>14</td>\n",
       "      <td>en</td>\n",
       "      <td>Neutral</td>\n",
       "    </tr>\n",
       "    <tr>\n",
       "      <th>1</th>\n",
       "      <td>MawResister</td>\n",
       "      <td>2022-07-31 23:59:35+00:00</td>\n",
       "      <td>0</td>\n",
       "      <td>Twitter for iPhone</td>\n",
       "      <td>My brother in law’s ashes were buried in a brown FedEx box. 🙄</td>\n",
       "      <td>0.000</td>\n",
       "      <td>0.000</td>\n",
       "      <td>16</td>\n",
       "      <td>en</td>\n",
       "      <td>Neutral</td>\n",
       "    </tr>\n",
       "    <tr>\n",
       "      <th>2</th>\n",
       "      <td>CoonenWill</td>\n",
       "      <td>2022-07-31 23:58:37+00:00</td>\n",
       "      <td>0</td>\n",
       "      <td>Twitter for iPhone</td>\n",
       "      <td>I’m confused. cannonballs into a pool of saudibloodmoney then runs it through their personal laundromat known as the Cup=FINE is at least honest about the source=HORRIBLE. Hypocrisy</td>\n",
       "      <td>0.575</td>\n",
       "      <td>-0.025</td>\n",
       "      <td>31</td>\n",
       "      <td>en</td>\n",
       "      <td>Negative</td>\n",
       "    </tr>\n",
       "    <tr>\n",
       "      <th>3</th>\n",
       "      <td>ISLAND_THUNDER</td>\n",
       "      <td>2022-07-31 23:58:31+00:00</td>\n",
       "      <td>4</td>\n",
       "      <td>Twitter for iPhone</td>\n",
       "      <td>_fin _Token _justin _FedEx_Guy LFG _fin GangGang🌴✊🏽♾</td>\n",
       "      <td>0.000</td>\n",
       "      <td>0.000</td>\n",
       "      <td>7</td>\n",
       "      <td>en</td>\n",
       "      <td>Neutral</td>\n",
       "    </tr>\n",
       "    <tr>\n",
       "      <th>4</th>\n",
       "      <td>graybrigade</td>\n",
       "      <td>2022-07-31 23:58:02+00:00</td>\n",
       "      <td>1</td>\n",
       "      <td>Twitter for iPhone</td>\n",
       "      <td>_Kisner Like you said a lot of guys trying to get to FedEx. Similar to the old Fall lineup guys trying to keep Tour card….</td>\n",
       "      <td>0.300</td>\n",
       "      <td>0.050</td>\n",
       "      <td>27</td>\n",
       "      <td>en</td>\n",
       "      <td>Positive</td>\n",
       "    </tr>\n",
       "  </tbody>\n",
       "</table>\n",
       "</div>"
      ],
      "text/plain": [
       "             User              Date Created  Number of likes     Source of tweet                                                                                                                                                                                  Tweets  Subjectivity  Polarity  n_words languages sentiment\n",
       "0  ISLAND_THUNDER 2022-07-31 23:59:38+00:00  5                Twitter for iPhone  _fin _Token _justin _FedEx_Guy I been tellin y’all!!! LFG⚡️💎🚀🚀🚀                                                                                                                         0.000         0.000     14       en        Neutral \n",
       "1  MawResister    2022-07-31 23:59:35+00:00  0                Twitter for iPhone  My brother in law’s ashes were buried in a brown FedEx box. 🙄                                                                                                                           0.000         0.000     16       en        Neutral \n",
       "2  CoonenWill     2022-07-31 23:58:37+00:00  0                Twitter for iPhone  I’m confused. cannonballs into a pool of saudibloodmoney then runs it through their personal laundromat known as the Cup=FINE is at least honest about the source=HORRIBLE. Hypocrisy   0.575        -0.025     31       en        Negative\n",
       "3  ISLAND_THUNDER 2022-07-31 23:58:31+00:00  4                Twitter for iPhone  _fin _Token _justin _FedEx_Guy LFG _fin GangGang🌴✊🏽♾                                                                                                                                    0.000         0.000     7        en        Neutral \n",
       "4  graybrigade    2022-07-31 23:58:02+00:00  1                Twitter for iPhone  _Kisner Like you said a lot of guys trying to get to FedEx. Similar to the old Fall lineup guys trying to keep Tour card….                                                              0.300         0.050     27       en        Positive"
      ]
     },
     "execution_count": 10,
     "metadata": {},
     "output_type": "execute_result"
    }
   ],
   "source": [
    "df['Tweets'] = df['Tweets'].apply(textclean)\n",
    "# df['Tweets'] = df['Tweets'].apply(nostopwords)\n",
    "df['Subjectivity'] = df['Tweets'].apply(getSubjectivity)\n",
    "df['Polarity'] = df['Tweets'].apply(getPolarity)\n",
    "df['n_words'] = n_words(df)\n",
    "df['languages'] = getLanguages(df)\n",
    "df['sentiment'] = df['Polarity'].apply(getSentiment)\n",
    "df.head()"
   ]
  },
  {
   "cell_type": "code",
   "execution_count": 11,
   "metadata": {},
   "outputs": [
    {
     "data": {
      "text/html": [
       "<div>\n",
       "<style scoped>\n",
       "    .dataframe tbody tr th:only-of-type {\n",
       "        vertical-align: middle;\n",
       "    }\n",
       "\n",
       "    .dataframe tbody tr th {\n",
       "        vertical-align: top;\n",
       "    }\n",
       "\n",
       "    .dataframe thead th {\n",
       "        text-align: right;\n",
       "    }\n",
       "</style>\n",
       "<table border=\"1\" class=\"dataframe\">\n",
       "  <thead>\n",
       "    <tr style=\"text-align: right;\">\n",
       "      <th></th>\n",
       "      <th>User</th>\n",
       "      <th>Date Created</th>\n",
       "      <th>Number of likes</th>\n",
       "      <th>Source of tweet</th>\n",
       "      <th>Tweets</th>\n",
       "      <th>Subjectivity</th>\n",
       "      <th>Polarity</th>\n",
       "      <th>n_words</th>\n",
       "      <th>languages</th>\n",
       "      <th>sentiment</th>\n",
       "    </tr>\n",
       "  </thead>\n",
       "  <tbody>\n",
       "    <tr>\n",
       "      <th>152</th>\n",
       "      <td>ryanpistana</td>\n",
       "      <td>2022-07-31 22:13:42+00:00</td>\n",
       "      <td>808</td>\n",
       "      <td>Twitter for iPhone</td>\n",
       "      <td>This corner is brought to you by FedEx</td>\n",
       "      <td>0.0</td>\n",
       "      <td>0.0</td>\n",
       "      <td>8</td>\n",
       "      <td>en</td>\n",
       "      <td>Neutral</td>\n",
       "    </tr>\n",
       "  </tbody>\n",
       "</table>\n",
       "</div>"
      ],
      "text/plain": [
       "            User              Date Created  Number of likes     Source of tweet                                   Tweets  Subjectivity  Polarity  n_words languages sentiment\n",
       "152  ryanpistana 2022-07-31 22:13:42+00:00  808              Twitter for iPhone  This corner is brought to you by FedEx   0.0           0.0       8        en        Neutral "
      ]
     },
     "execution_count": 11,
     "metadata": {},
     "output_type": "execute_result"
    }
   ],
   "source": [
    "df.loc[df['Number of likes'] == max(df['Number of likes'])]"
   ]
  },
  {
   "cell_type": "code",
   "execution_count": 12,
   "metadata": {},
   "outputs": [
    {
     "data": {
      "image/png": "[encoded data removed]",
      "text/plain": [
       "<Figure size 640x480 with 1 Axes>"
      ]
     },
     "metadata": {},
     "output_type": "display_data"
    }
   ],
   "source": [
    "allwords = ' '.join([tweet for tweet in df['Tweets']])\n",
    "wordcloud = WordCloud(width = 500, height= 300, random_state=21, max_font_size=119).generate(allwords)\n",
    "plt.imshow(wordcloud, interpolation='bilinear')\n",
    "plt.axis('off')\n",
    "plt.show()"
   ]
  },
  {
   "cell_type": "code",
   "execution_count": 13,
   "metadata": {},
   "outputs": [
    {
     "name": "stderr",
     "output_type": "stream",
     "text": [
      "c:\\Users\\chinn\\AppData\\Local\\Programs\\Python\\Python38\\lib\\site-packages\\seaborn\\_decorators.py:36: FutureWarning:\n",
      "\n",
      "Pass the following variables as keyword args: x, y. From version 0.12, the only valid positional argument will be `data`, and passing other arguments without an explicit keyword will result in an error or misinterpretation.\n",
      "\n"
     ]
    },
    {
     "data": {
      "text/plain": [
       "<AxesSubplot:xlabel='Polarity', ylabel='Subjectivity'>"
      ]
     },
     "execution_count": 13,
     "metadata": {},
     "output_type": "execute_result"
    },
    {
     "data": {
      "image/png": "[encoded data removed]",
      "text/plain": [
       "<Figure size 640x480 with 1 Axes>"
      ]
     },
     "metadata": {},
     "output_type": "display_data"
    }
   ],
   "source": [
    "sns.scatterplot(df.Polarity, df.Subjectivity) # type: ignore "
   ]
  },
  {
   "cell_type": "code",
   "execution_count": 14,
   "metadata": {},
   "outputs": [
    {
     "data": {
      "text/plain": [
       "Neutral     424\n",
       "Positive    384\n",
       "Negative    193\n",
       "Name: sentiment, dtype: int64"
      ]
     },
     "execution_count": 14,
     "metadata": {},
     "output_type": "execute_result"
    }
   ],
   "source": [
    "df.sentiment.value_counts()"
   ]
  },
  {
   "cell_type": "code",
   "execution_count": 15,
   "metadata": {},
   "outputs": [
    {
     "data": {
      "text/html": [
       "<div>\n",
       "<style scoped>\n",
       "    .dataframe tbody tr th:only-of-type {\n",
       "        vertical-align: middle;\n",
       "    }\n",
       "\n",
       "    .dataframe tbody tr th {\n",
       "        vertical-align: top;\n",
       "    }\n",
       "\n",
       "    .dataframe thead th {\n",
       "        text-align: right;\n",
       "    }\n",
       "</style>\n",
       "<table border=\"1\" class=\"dataframe\">\n",
       "  <thead>\n",
       "    <tr style=\"text-align: right;\">\n",
       "      <th></th>\n",
       "      <th>0</th>\n",
       "    </tr>\n",
       "  </thead>\n",
       "  <tbody>\n",
       "    <tr>\n",
       "      <th>0</th>\n",
       "      <td>_fin _Token _justin _FedEx_Guy I been tellin y’all!!! LFG⚡️💎🚀🚀🚀</td>\n",
       "    </tr>\n",
       "    <tr>\n",
       "      <th>1</th>\n",
       "      <td>My brother in law’s ashes were buried in a brown FedEx box. 🙄</td>\n",
       "    </tr>\n",
       "    <tr>\n",
       "      <th>2</th>\n",
       "      <td>_fin _Token _justin _FedEx_Guy LFG _fin GangGang🌴✊🏽♾</td>\n",
       "    </tr>\n",
       "    <tr>\n",
       "      <th>3</th>\n",
       "      <td>Let’s not forget his pension, his FedEx money, his sponsors. And his dignity…and earnings that will last for years to come …</td>\n",
       "    </tr>\n",
       "    <tr>\n",
       "      <th>4</th>\n",
       "      <td>you are getting blood money from Saudi Arabia and</td>\n",
       "    </tr>\n",
       "    <tr>\n",
       "      <th>...</th>\n",
       "      <td>...</td>\n",
       "    </tr>\n",
       "    <tr>\n",
       "      <th>419</th>\n",
       "      <td>who tf was at fedex?</td>\n",
       "    </tr>\n",
       "    <tr>\n",
       "      <th>420</th>\n",
       "      <td>Hundreds of FedEx packages are found in Alabama woods via</td>\n",
       "    </tr>\n",
       "    <tr>\n",
       "      <th>421</th>\n",
       "      <td>Call FedEx Saudi!</td>\n",
       "    </tr>\n",
       "    <tr>\n",
       "      <th>422</th>\n",
       "      <td>FedEx, the PGA’s largest sponsor, is making billions on the backs of Saudi Arabia.</td>\n",
       "    </tr>\n",
       "    <tr>\n",
       "      <th>423</th>\n",
       "      <td>＃elogi さん迷惑メールフォルダにメール来てた😓\\nごめんなさい💦\\n無事にelogiから出荷できた✌️\\n住所とか入力せんでいいから楽やな😄\\nfedexも時間ピッタリにきてビックリ😊\\nあとは無事に届くか見届けたい👍</td>\n",
       "    </tr>\n",
       "  </tbody>\n",
       "</table>\n",
       "<p>424 rows × 1 columns</p>\n",
       "</div>"
      ],
      "text/plain": [
       "                                                                                                                                0\n",
       "0    _fin _Token _justin _FedEx_Guy I been tellin y’all!!! LFG⚡️💎🚀🚀🚀                                                             \n",
       "1    My brother in law’s ashes were buried in a brown FedEx box. 🙄                                                               \n",
       "2    _fin _Token _justin _FedEx_Guy LFG _fin GangGang🌴✊🏽♾                                                                        \n",
       "3    Let’s not forget his pension, his FedEx money, his sponsors. And his dignity…and earnings that will last for years to come …\n",
       "4    you are getting blood money from Saudi Arabia and                                                                           \n",
       "..                                                  ...                                                                          \n",
       "419  who tf was at fedex?                                                                                                        \n",
       "420  Hundreds of FedEx packages are found in Alabama woods via                                                                   \n",
       "421  Call FedEx Saudi!                                                                                                           \n",
       "422  FedEx, the PGA’s largest sponsor, is making billions on the backs of Saudi Arabia.                                          \n",
       "423  ＃elogi さん迷惑メールフォルダにメール来てた😓\\nごめんなさい💦\\n無事にelogiから出荷できた✌️\\n住所とか入力せんでいいから楽やな😄\\nfedexも時間ピッタリにきてビックリ😊\\nあとは無事に届くか見届けたい👍            \n",
       "\n",
       "[424 rows x 1 columns]"
      ]
     },
     "execution_count": 15,
     "metadata": {},
     "output_type": "execute_result"
    }
   ],
   "source": [
    "sortedf = df.sort_values(by=['Polarity'])\n",
    "neudf = []\n",
    "posdf =  []\n",
    "negdf = []\n",
    "for i in range(0, sortedf.shape[0]):\n",
    "    if(df['sentiment'][i]=='Neutral'):\n",
    "        neudf.append(sortedf.Tweets[i])\n",
    "    elif(df['sentiment'][i]=='Positive'):\n",
    "        posdf.append(sortedf['Tweets'][i])\n",
    "    else:\n",
    "        negdf.append(sortedf.Tweets[i])\n",
    "neudf = pd.DataFrame(neudf)\n",
    "neudf"
   ]
  },
  {
   "cell_type": "code",
   "execution_count": 16,
   "metadata": {},
   "outputs": [
    {
     "data": {
      "text/plain": [
       "Text(0.5, 1.0, 'Sentiment Analysis on FedEx')"
      ]
     },
     "execution_count": 16,
     "metadata": {},
     "output_type": "execute_result"
    },
    {
     "data": {
      "image/png": "[encoded data removed]",
      "text/plain": [
       "<Figure size 640x480 with 1 Axes>"
      ]
     },
     "metadata": {},
     "output_type": "display_data"
    }
   ],
   "source": [
    "from turtle import title\n",
    "import seaborn as sns\n",
    "import matplotlib.pyplot as plt\n",
    "\n",
    "colors = sns.color_palette('pastel')[0:3]\n",
    "plt.pie(df.sentiment.value_counts(), labels=['Neutral', 'Positive', 'Negative'],autopct='%1.1f%%', colors=colors, startangle=180, shadow=True)\n",
    "plt.title('Sentiment Analysis on FedEx')"
   ]
  },
  {
   "cell_type": "code",
   "execution_count": 17,
   "metadata": {},
   "outputs": [
    {
     "data": {
      "text/plain": [
       "<BarContainer object of 3 artists>"
      ]
     },
     "execution_count": 17,
     "metadata": {},
     "output_type": "execute_result"
    },
    {
     "data": {
      "image/png": "[encoded data removed]",
      "text/plain": [
       "<Figure size 640x480 with 1 Axes>"
      ]
     },
     "metadata": {},
     "output_type": "display_data"
    }
   ],
   "source": [
    "plt.title('Sentiment analysis')\n",
    "plt.xlabel('Sentiment')\n",
    "plt.ylabel('Counts')\n",
    "plt.bar(df.sentiment.value_counts().index, df.sentiment.value_counts(), color=colors)"
   ]
  },
  {
   "cell_type": "code",
   "execution_count": 18,
   "metadata": {},
   "outputs": [
    {
     "name": "stdout",
     "output_type": "stream",
     "text": [
      "[*********************100%***********************]  1 of 1 completed\n"
     ]
    },
    {
     "data": {
      "text/html": [
       "<div>\n",
       "<style scoped>\n",
       "    .dataframe tbody tr th:only-of-type {\n",
       "        vertical-align: middle;\n",
       "    }\n",
       "\n",
       "    .dataframe tbody tr th {\n",
       "        vertical-align: top;\n",
       "    }\n",
       "\n",
       "    .dataframe thead th {\n",
       "        text-align: right;\n",
       "    }\n",
       "</style>\n",
       "<table border=\"1\" class=\"dataframe\">\n",
       "  <thead>\n",
       "    <tr style=\"text-align: right;\">\n",
       "      <th></th>\n",
       "      <th>Open</th>\n",
       "      <th>High</th>\n",
       "      <th>Low</th>\n",
       "      <th>Close</th>\n",
       "      <th>Adj Close</th>\n",
       "      <th>Volume</th>\n",
       "      <th>date</th>\n",
       "    </tr>\n",
       "    <tr>\n",
       "      <th>Date</th>\n",
       "      <th></th>\n",
       "      <th></th>\n",
       "      <th></th>\n",
       "      <th></th>\n",
       "      <th></th>\n",
       "      <th></th>\n",
       "      <th></th>\n",
       "    </tr>\n",
       "  </thead>\n",
       "  <tbody>\n",
       "    <tr>\n",
       "      <th>2019-12-31</th>\n",
       "      <td>149.220001</td>\n",
       "      <td>151.570007</td>\n",
       "      <td>148.750000</td>\n",
       "      <td>151.210007</td>\n",
       "      <td>145.313858</td>\n",
       "      <td>2153400</td>\n",
       "      <td>2019-12-31</td>\n",
       "    </tr>\n",
       "    <tr>\n",
       "      <th>2020-01-02</th>\n",
       "      <td>152.419998</td>\n",
       "      <td>155.100006</td>\n",
       "      <td>151.600006</td>\n",
       "      <td>155.100006</td>\n",
       "      <td>149.052170</td>\n",
       "      <td>3027600</td>\n",
       "      <td>2020-01-02</td>\n",
       "    </tr>\n",
       "    <tr>\n",
       "      <th>2020-01-03</th>\n",
       "      <td>152.500000</td>\n",
       "      <td>153.339996</td>\n",
       "      <td>151.839996</td>\n",
       "      <td>153.179993</td>\n",
       "      <td>147.207047</td>\n",
       "      <td>2216500</td>\n",
       "      <td>2020-01-03</td>\n",
       "    </tr>\n",
       "    <tr>\n",
       "      <th>2020-01-06</th>\n",
       "      <td>151.250000</td>\n",
       "      <td>153.550003</td>\n",
       "      <td>150.169998</td>\n",
       "      <td>153.300003</td>\n",
       "      <td>147.322357</td>\n",
       "      <td>2389700</td>\n",
       "      <td>2020-01-06</td>\n",
       "    </tr>\n",
       "    <tr>\n",
       "      <th>2020-01-07</th>\n",
       "      <td>153.360001</td>\n",
       "      <td>155.220001</td>\n",
       "      <td>152.339996</td>\n",
       "      <td>154.800003</td>\n",
       "      <td>148.763901</td>\n",
       "      <td>2140100</td>\n",
       "      <td>2020-01-07</td>\n",
       "    </tr>\n",
       "  </tbody>\n",
       "</table>\n",
       "</div>"
      ],
      "text/plain": [
       "                  Open        High         Low       Close   Adj Close   Volume       date\n",
       "Date                                                                                      \n",
       "2019-12-31  149.220001  151.570007  148.750000  151.210007  145.313858  2153400 2019-12-31\n",
       "2020-01-02  152.419998  155.100006  151.600006  155.100006  149.052170  3027600 2020-01-02\n",
       "2020-01-03  152.500000  153.339996  151.839996  153.179993  147.207047  2216500 2020-01-03\n",
       "2020-01-06  151.250000  153.550003  150.169998  153.300003  147.322357  2389700 2020-01-06\n",
       "2020-01-07  153.360001  155.220001  152.339996  154.800003  148.763901  2140100 2020-01-07"
      ]
     },
     "execution_count": 18,
     "metadata": {},
     "output_type": "execute_result"
    }
   ],
   "source": [
    "import yfinance as yf\n",
    "import pandas as pd\n",
    "\n",
    "df = yf.download('FDX', '2019-12-31', '2020-08-01')\n",
    "df['date'] = df.index\n",
    "df.head()"
   ]
  },
  {
   "cell_type": "code",
   "execution_count": 19,
   "metadata": {},
   "outputs": [
    {
     "data": {
      "application/vnd.plotly.v1+json": {
       "config": {
        "plotlyServerURL": "https://plot.ly"
       },
       "data": [
        {
         "hovertemplate": "Date=%{x}<br>Price (in USD)=%{y}<extra></extra>",
         "legendgroup": "",
         "line": {
          "color": "#636efa",
          "dash": "solid"
         },
         "marker": {
          "symbol": "circle"
         },
         "mode": "lines",
         "name": "",
         "orientation": "v",
         "showlegend": false,
         "type": "scatter",
         "x": [
          "2019-12-31T00:00:00",
          "2020-01-02T00:00:00",
          "2020-01-03T00:00:00",
          "2020-01-06T00:00:00",
          "2020-01-07T00:00:00",
          "2020-01-08T00:00:00",
          "2020-01-09T00:00:00",
          "2020-01-10T00:00:00",
          "2020-01-13T00:00:00",
          "2020-01-14T00:00:00",
          "2020-01-15T00:00:00",
          "2020-01-16T00:00:00",
          "2020-01-17T00:00:00",
          "2020-01-21T00:00:00",
          "2020-01-22T00:00:00",
          "2020-01-23T00:00:00",
          "2020-01-24T00:00:00",
          "2020-01-27T00:00:00",
          "2020-01-28T00:00:00",
          "2020-01-29T00:00:00",
          "2020-01-30T00:00:00",
          "2020-01-31T00:00:00",
          "2020-02-03T00:00:00",
          "2020-02-04T00:00:00",
          "2020-02-05T00:00:00",
          "2020-02-06T00:00:00",
          "2020-02-07T00:00:00",
          "2020-02-10T00:00:00",
          "2020-02-11T00:00:00",
          "2020-02-12T00:00:00",
          "2020-02-13T00:00:00",
          "2020-02-14T00:00:00",
          "2020-02-18T00:00:00",
          "2020-02-19T00:00:00",
          "2020-02-20T00:00:00",
          "2020-02-21T00:00:00",
          "2020-02-24T00:00:00",
          "2020-02-25T00:00:00",
          "2020-02-26T00:00:00",
          "2020-02-27T00:00:00",
          "2020-02-28T00:00:00",
          "2020-03-02T00:00:00",
          "2020-03-03T00:00:00",
          "2020-03-04T00:00:00",
          "2020-03-05T00:00:00",
          "2020-03-06T00:00:00",
          "2020-03-09T00:00:00",
          "2020-03-10T00:00:00",
          "2020-03-11T00:00:00",
          "2020-03-12T00:00:00",
          "2020-03-13T00:00:00",
          "2020-03-16T00:00:00",
          "2020-03-17T00:00:00",
          "2020-03-18T00:00:00",
          "2020-03-19T00:00:00",
          "2020-03-20T00:00:00",
          "2020-03-23T00:00:00",
          "2020-03-24T00:00:00",
          "2020-03-25T00:00:00",
          "2020-03-26T00:00:00",
          "2020-03-27T00:00:00",
          "2020-03-30T00:00:00",
          "2020-03-31T00:00:00",
          "2020-04-01T00:00:00",
          "2020-04-02T00:00:00",
          "2020-04-03T00:00:00",
          "2020-04-06T00:00:00",
          "2020-04-07T00:00:00",
          "2020-04-08T00:00:00",
          "2020-04-09T00:00:00",
          "2020-04-13T00:00:00",
          "2020-04-14T00:00:00",
          "2020-04-15T00:00:00",
          "2020-04-16T00:00:00",
          "2020-04-17T00:00:00",
          "2020-04-20T00:00:00",
          "2020-04-21T00:00:00",
          "2020-04-22T00:00:00",
          "2020-04-23T00:00:00",
          "2020-04-24T00:00:00",
          "2020-04-27T00:00:00",
          "2020-04-28T00:00:00",
          "2020-04-29T00:00:00",
          "2020-04-30T00:00:00",
          "2020-05-01T00:00:00",
          "2020-05-04T00:00:00",
          "2020-05-05T00:00:00",
          "2020-05-06T00:00:00",
          "2020-05-07T00:00:00",
          "2020-05-08T00:00:00",
          "2020-05-11T00:00:00",
          "2020-05-12T00:00:00",
          "2020-05-13T00:00:00",
          "2020-05-14T00:00:00",
          "2020-05-15T00:00:00",
          "2020-05-18T00:00:00",
          "2020-05-19T00:00:00",
          "2020-05-20T00:00:00",
          "2020-05-21T00:00:00",
          "2020-05-22T00:00:00",
          "2020-05-26T00:00:00",
          "2020-05-27T00:00:00",
          "2020-05-28T00:00:00",
          "2020-05-29T00:00:00",
          "2020-06-01T00:00:00",
          "2020-06-02T00:00:00",
          "2020-06-03T00:00:00",
          "2020-06-04T00:00:00",
          "2020-06-05T00:00:00",
          "2020-06-08T00:00:00",
          "2020-06-09T00:00:00",
          "2020-06-10T00:00:00",
          "2020-06-11T00:00:00",
          "2020-06-12T00:00:00",
          "2020-06-15T00:00:00",
          "2020-06-16T00:00:00",
          "2020-06-17T00:00:00",
          "2020-06-18T00:00:00",
          "2020-06-19T00:00:00",
          "2020-06-22T00:00:00",
          "2020-06-23T00:00:00",
          "2020-06-24T00:00:00",
          "2020-06-25T00:00:00",
          "2020-06-26T00:00:00",
          "2020-06-29T00:00:00",
          "2020-06-30T00:00:00",
          "2020-07-01T00:00:00",
          "2020-07-02T00:00:00",
          "2020-07-06T00:00:00",
          "2020-07-07T00:00:00",
          "2020-07-08T00:00:00",
          "2020-07-09T00:00:00",
          "2020-07-10T00:00:00",
          "2020-07-13T00:00:00",
          "2020-07-14T00:00:00",
          "2020-07-15T00:00:00",
          "2020-07-16T00:00:00",
          "2020-07-17T00:00:00",
          "2020-07-20T00:00:00",
          "2020-07-21T00:00:00",
          "2020-07-22T00:00:00",
          "2020-07-23T00:00:00",
          "2020-07-24T00:00:00",
          "2020-07-27T00:00:00",
          "2020-07-28T00:00:00",
          "2020-07-29T00:00:00",
          "2020-07-30T00:00:00",
          "2020-07-31T00:00:00"
         ],
         "xaxis": "x",
         "y": [
          151.2100067138672,
          155.10000610351562,
          153.17999267578125,
          153.3000030517578,
          154.8000030517578,
          157.1300048828125,
          158.0500030517578,
          156.6300048828125,
          159.27999877929688,
          162.1300048828125,
          159.14999389648438,
          159.5399932861328,
          159.97999572753906,
          157.52999877929688,
          155.5399932861328,
          154.8800048828125,
          154.07000732421875,
          148.49000549316406,
          148.39999389648438,
          148.05999755859375,
          148.25999450683594,
          144.63999938964844,
          143.83999633789062,
          147.50999450683594,
          149.9499969482422,
          148.6300048828125,
          155.66000366210938,
          156.77999877929688,
          158,
          158.50999450683594,
          161.47000122070312,
          158.6199951171875,
          158.57000732421875,
          161.13999938964844,
          164.91000366210938,
          163.25,
          154.85000610351562,
          145.60000610351562,
          144.52999877929688,
          138.75999450683594,
          141.1699981689453,
          139.75,
          133.08999633789062,
          136.41000366210938,
          129.92999267578125,
          127.68000030517578,
          115.69999694824219,
          120.66999816894531,
          111.01000213623047,
          97,
          106.62999725341797,
          90.48999786376953,
          94.95999908447266,
          99.68000030517578,
          111.68000030517578,
          111.05999755859375,
          111.76000213623047,
          120.04000091552734,
          118.30999755859375,
          125.5999984741211,
          120.58000183105469,
          124.30999755859375,
          121.26000213623047,
          113.4800033569336,
          116.63999938964844,
          109.22000122070312,
          119.0199966430664,
          115.94999694824219,
          125.54000091552734,
          122.29000091552734,
          123.52999877929688,
          125.08000183105469,
          119.9000015258789,
          119.08000183105469,
          124.8499984741211,
          122.63999938964844,
          120.4800033569336,
          118.54000091552734,
          120.87999725341797,
          123.05999755859375,
          127.29000091552734,
          127.73999786376953,
          129.47999572753906,
          126.7699966430664,
          118.19999694824219,
          115.8499984741211,
          117.66999816894531,
          115.12000274658203,
          116.73999786376953,
          120.44000244140625,
          117.55999755859375,
          113.13999938964844,
          109.33999633789062,
          109.11000061035156,
          107.5199966430664,
          119.19000244140625,
          114.79000091552734,
          117.01000213623047,
          115.7699966430664,
          117,
          124.80999755859375,
          130.42999267578125,
          131.14999389648438,
          130.55999755859375,
          129.7100067138672,
          134.1999969482422,
          138.0800018310547,
          139.2100067138672,
          142.2100067138672,
          149.3800048828125,
          144.69000244140625,
          140.39999389648438,
          128.80999755859375,
          132.72000122070312,
          133.67999267578125,
          135.5399932861328,
          135.66000366210938,
          138.38999938964844,
          137.6300048828125,
          137.3800048828125,
          139.07000732421875,
          135.08999633789062,
          136.11000061035156,
          130.0800018310547,
          134.5500030517578,
          140.22000122070312,
          156.66000366210938,
          155.47999572753906,
          156.27000427246094,
          158.5399932861328,
          158.55999755859375,
          155.74000549316406,
          158.58999633789062,
          156.22999572753906,
          158.5,
          161.25,
          166.10000610351562,
          165.97999572753906,
          164.1300048828125,
          165.5,
          165.13999938964844,
          165.99000549316406,
          165.0399932861328,
          170.63999938964844,
          166.92999267578125,
          169.5500030517578,
          172.7100067138672,
          168.39999389648438
         ],
         "yaxis": "y"
        }
       ],
       "layout": {
        "legend": {
         "tracegroupgap": 0
        },
        "template": {
         "data": {
          "bar": [
           {
            "error_x": {
             "color": "#2a3f5f"
            },
            "error_y": {
             "color": "#2a3f5f"
            },
            "marker": {
             "line": {
              "color": "#E5ECF6",
              "width": 0.5
             },
             "pattern": {
              "fillmode": "overlay",
              "size": 10,
              "solidity": 0.2
             }
            },
            "type": "bar"
           }
          ],
          "barpolar": [
           {
            "marker": {
             "line": {
              "color": "#E5ECF6",
              "width": 0.5
             },
             "pattern": {
              "fillmode": "overlay",
              "size": 10,
              "solidity": 0.2
             }
            },
            "type": "barpolar"
           }
          ],
          "carpet": [
           {
            "aaxis": {
             "endlinecolor": "#2a3f5f",
             "gridcolor": "white",
             "linecolor": "white",
             "minorgridcolor": "white",
             "startlinecolor": "#2a3f5f"
            },
            "baxis": {
             "endlinecolor": "#2a3f5f",
             "gridcolor": "white",
             "linecolor": "white",
             "minorgridcolor": "white",
             "startlinecolor": "#2a3f5f"
            },
            "type": "carpet"
           }
          ],
          "choropleth": [
           {
            "colorbar": {
             "outlinewidth": 0,
             "ticks": ""
            },
            "type": "choropleth"
           }
          ],
          "contour": [
           {
            "colorbar": {
             "outlinewidth": 0,
             "ticks": ""
            },
            "colorscale": [
             [
              0,
              "#0d0887"
             ],
             [
              0.1111111111111111,
              "#46039f"
             ],
             [
              0.2222222222222222,
              "#7201a8"
             ],
             [
              0.3333333333333333,
              "#9c179e"
             ],
             [
              0.4444444444444444,
              "#bd3786"
             ],
             [
              0.5555555555555556,
              "#d8576b"
             ],
             [
              0.6666666666666666,
              "#ed7953"
             ],
             [
              0.7777777777777778,
              "#fb9f3a"
             ],
             [
              0.8888888888888888,
              "#fdca26"
             ],
             [
              1,
              "#f0f921"
             ]
            ],
            "type": "contour"
           }
          ],
          "contourcarpet": [
           {
            "colorbar": {
             "outlinewidth": 0,
             "ticks": ""
            },
            "type": "contourcarpet"
           }
          ],
          "heatmap": [
           {
            "colorbar": {
             "outlinewidth": 0,
             "ticks": ""
            },
            "colorscale": [
             [
              0,
              "#0d0887"
             ],
             [
              0.1111111111111111,
              "#46039f"
             ],
             [
              0.2222222222222222,
              "#7201a8"
             ],
             [
              0.3333333333333333,
              "#9c179e"
             ],
             [
              0.4444444444444444,
              "#bd3786"
             ],
             [
              0.5555555555555556,
              "#d8576b"
             ],
             [
              0.6666666666666666,
              "#ed7953"
             ],
             [
              0.7777777777777778,
              "#fb9f3a"
             ],
             [
              0.8888888888888888,
              "#fdca26"
             ],
             [
              1,
              "#f0f921"
             ]
            ],
            "type": "heatmap"
           }
          ],
          "heatmapgl": [
           {
            "colorbar": {
             "outlinewidth": 0,
             "ticks": ""
            },
            "colorscale": [
             [
              0,
              "#0d0887"
             ],
             [
              0.1111111111111111,
              "#46039f"
             ],
             [
              0.2222222222222222,
              "#7201a8"
             ],
             [
              0.3333333333333333,
              "#9c179e"
             ],
             [
              0.4444444444444444,
              "#bd3786"
             ],
             [
              0.5555555555555556,
              "#d8576b"
             ],
             [
              0.6666666666666666,
              "#ed7953"
             ],
             [
              0.7777777777777778,
              "#fb9f3a"
             ],
             [
              0.8888888888888888,
              "#fdca26"
             ],
             [
              1,
              "#f0f921"
             ]
            ],
            "type": "heatmapgl"
           }
          ],
          "histogram": [
           {
            "marker": {
             "pattern": {
              "fillmode": "overlay",
              "size": 10,
              "solidity": 0.2
             }
            },
            "type": "histogram"
           }
          ],
          "histogram2d": [
           {
            "colorbar": {
             "outlinewidth": 0,
             "ticks": ""
            },
            "colorscale": [
             [
              0,
              "#0d0887"
             ],
             [
              0.1111111111111111,
              "#46039f"
             ],
             [
              0.2222222222222222,
              "#7201a8"
             ],
             [
              0.3333333333333333,
              "#9c179e"
             ],
             [
              0.4444444444444444,
              "#bd3786"
             ],
             [
              0.5555555555555556,
              "#d8576b"
             ],
             [
              0.6666666666666666,
              "#ed7953"
             ],
             [
              0.7777777777777778,
              "#fb9f3a"
             ],
             [
              0.8888888888888888,
              "#fdca26"
             ],
             [
              1,
              "#f0f921"
             ]
            ],
            "type": "histogram2d"
           }
          ],
          "histogram2dcontour": [
           {
            "colorbar": {
             "outlinewidth": 0,
             "ticks": ""
            },
            "colorscale": [
             [
              0,
              "#0d0887"
             ],
             [
              0.1111111111111111,
              "#46039f"
             ],
             [
              0.2222222222222222,
              "#7201a8"
             ],
             [
              0.3333333333333333,
              "#9c179e"
             ],
             [
              0.4444444444444444,
              "#bd3786"
             ],
             [
              0.5555555555555556,
              "#d8576b"
             ],
             [
              0.6666666666666666,
              "#ed7953"
             ],
             [
              0.7777777777777778,
              "#fb9f3a"
             ],
             [
              0.8888888888888888,
              "#fdca26"
             ],
             [
              1,
              "#f0f921"
             ]
            ],
            "type": "histogram2dcontour"
           }
          ],
          "mesh3d": [
           {
            "colorbar": {
             "outlinewidth": 0,
             "ticks": ""
            },
            "type": "mesh3d"
           }
          ],
          "parcoords": [
           {
            "line": {
             "colorbar": {
              "outlinewidth": 0,
              "ticks": ""
             }
            },
            "type": "parcoords"
           }
          ],
          "pie": [
           {
            "automargin": true,
            "type": "pie"
           }
          ],
          "scatter": [
           {
            "fillpattern": {
             "fillmode": "overlay",
             "size": 10,
             "solidity": 0.2
            },
            "type": "scatter"
           }
          ],
          "scatter3d": [
           {
            "line": {
             "colorbar": {
              "outlinewidth": 0,
              "ticks": ""
             }
            },
            "marker": {
             "colorbar": {
              "outlinewidth": 0,
              "ticks": ""
             }
            },
            "type": "scatter3d"
           }
          ],
          "scattercarpet": [
           {
            "marker": {
             "colorbar": {
              "outlinewidth": 0,
              "ticks": ""
             }
            },
            "type": "scattercarpet"
           }
          ],
          "scattergeo": [
           {
            "marker": {
             "colorbar": {
              "outlinewidth": 0,
              "ticks": ""
             }
            },
            "type": "scattergeo"
           }
          ],
          "scattergl": [
           {
            "marker": {
             "colorbar": {
              "outlinewidth": 0,
              "ticks": ""
             }
            },
            "type": "scattergl"
           }
          ],
          "scattermapbox": [
           {
            "marker": {
             "colorbar": {
              "outlinewidth": 0,
              "ticks": ""
             }
            },
            "type": "scattermapbox"
           }
          ],
          "scatterpolar": [
           {
            "marker": {
             "colorbar": {
              "outlinewidth": 0,
              "ticks": ""
             }
            },
            "type": "scatterpolar"
           }
          ],
          "scatterpolargl": [
           {
            "marker": {
             "colorbar": {
              "outlinewidth": 0,
              "ticks": ""
             }
            },
            "type": "scatterpolargl"
           }
          ],
          "scatterternary": [
           {
            "marker": {
             "colorbar": {
              "outlinewidth": 0,
              "ticks": ""
             }
            },
            "type": "scatterternary"
           }
          ],
          "surface": [
           {
            "colorbar": {
             "outlinewidth": 0,
             "ticks": ""
            },
            "colorscale": [
             [
              0,
              "#0d0887"
             ],
             [
              0.1111111111111111,
              "#46039f"
             ],
             [
              0.2222222222222222,
              "#7201a8"
             ],
             [
              0.3333333333333333,
              "#9c179e"
             ],
             [
              0.4444444444444444,
              "#bd3786"
             ],
             [
              0.5555555555555556,
              "#d8576b"
             ],
             [
              0.6666666666666666,
              "#ed7953"
             ],
             [
              0.7777777777777778,
              "#fb9f3a"
             ],
             [
              0.8888888888888888,
              "#fdca26"
             ],
             [
              1,
              "#f0f921"
             ]
            ],
            "type": "surface"
           }
          ],
          "table": [
           {
            "cells": {
             "fill": {
              "color": "#EBF0F8"
             },
             "line": {
              "color": "white"
             }
            },
            "header": {
             "fill": {
              "color": "#C8D4E3"
             },
             "line": {
              "color": "white"
             }
            },
            "type": "table"
           }
          ]
         },
         "layout": {
          "annotationdefaults": {
           "arrowcolor": "#2a3f5f",
           "arrowhead": 0,
           "arrowwidth": 1
          },
          "autotypenumbers": "strict",
          "coloraxis": {
           "colorbar": {
            "outlinewidth": 0,
            "ticks": ""
           }
          },
          "colorscale": {
           "diverging": [
            [
             0,
             "#8e0152"
            ],
            [
             0.1,
             "#c51b7d"
            ],
            [
             0.2,
             "#de77ae"
            ],
            [
             0.3,
             "#f1b6da"
            ],
            [
             0.4,
             "#fde0ef"
            ],
            [
             0.5,
             "#f7f7f7"
            ],
            [
             0.6,
             "#e6f5d0"
            ],
            [
             0.7,
             "#b8e186"
            ],
            [
             0.8,
             "#7fbc41"
            ],
            [
             0.9,
             "#4d9221"
            ],
            [
             1,
             "#276419"
            ]
           ],
           "sequential": [
            [
             0,
             "#0d0887"
            ],
            [
             0.1111111111111111,
             "#46039f"
            ],
            [
             0.2222222222222222,
             "#7201a8"
            ],
            [
             0.3333333333333333,
             "#9c179e"
            ],
            [
             0.4444444444444444,
             "#bd3786"
            ],
            [
             0.5555555555555556,
             "#d8576b"
            ],
            [
             0.6666666666666666,
             "#ed7953"
            ],
            [
             0.7777777777777778,
             "#fb9f3a"
            ],
            [
             0.8888888888888888,
             "#fdca26"
            ],
            [
             1,
             "#f0f921"
            ]
           ],
           "sequentialminus": [
            [
             0,
             "#0d0887"
            ],
            [
             0.1111111111111111,
             "#46039f"
            ],
            [
             0.2222222222222222,
             "#7201a8"
            ],
            [
             0.3333333333333333,
             "#9c179e"
            ],
            [
             0.4444444444444444,
             "#bd3786"
            ],
            [
             0.5555555555555556,
             "#d8576b"
            ],
            [
             0.6666666666666666,
             "#ed7953"
            ],
            [
             0.7777777777777778,
             "#fb9f3a"
            ],
            [
             0.8888888888888888,
             "#fdca26"
            ],
            [
             1,
             "#f0f921"
            ]
           ]
          },
          "colorway": [
           "#636efa",
           "#EF553B",
           "#00cc96",
           "#ab63fa",
           "#FFA15A",
           "#19d3f3",
           "#FF6692",
           "#B6E880",
           "#FF97FF",
           "#FECB52"
          ],
          "font": {
           "color": "#2a3f5f"
          },
          "geo": {
           "bgcolor": "white",
           "lakecolor": "white",
           "landcolor": "#E5ECF6",
           "showlakes": true,
           "showland": true,
           "subunitcolor": "white"
          },
          "hoverlabel": {
           "align": "left"
          },
          "hovermode": "closest",
          "mapbox": {
           "style": "light"
          },
          "paper_bgcolor": "white",
          "plot_bgcolor": "#E5ECF6",
          "polar": {
           "angularaxis": {
            "gridcolor": "white",
            "linecolor": "white",
            "ticks": ""
           },
           "bgcolor": "#E5ECF6",
           "radialaxis": {
            "gridcolor": "white",
            "linecolor": "white",
            "ticks": ""
           }
          },
          "scene": {
           "xaxis": {
            "backgroundcolor": "#E5ECF6",
            "gridcolor": "white",
            "gridwidth": 2,
            "linecolor": "white",
            "showbackground": true,
            "ticks": "",
            "zerolinecolor": "white"
           },
           "yaxis": {
            "backgroundcolor": "#E5ECF6",
            "gridcolor": "white",
            "gridwidth": 2,
            "linecolor": "white",
            "showbackground": true,
            "ticks": "",
            "zerolinecolor": "white"
           },
           "zaxis": {
            "backgroundcolor": "#E5ECF6",
            "gridcolor": "white",
            "gridwidth": 2,
            "linecolor": "white",
            "showbackground": true,
            "ticks": "",
            "zerolinecolor": "white"
           }
          },
          "shapedefaults": {
           "line": {
            "color": "#2a3f5f"
           }
          },
          "ternary": {
           "aaxis": {
            "gridcolor": "white",
            "linecolor": "white",
            "ticks": ""
           },
           "baxis": {
            "gridcolor": "white",
            "linecolor": "white",
            "ticks": ""
           },
           "bgcolor": "#E5ECF6",
           "caxis": {
            "gridcolor": "white",
            "linecolor": "white",
            "ticks": ""
           }
          },
          "title": {
           "x": 0.05
          },
          "xaxis": {
           "automargin": true,
           "gridcolor": "white",
           "linecolor": "white",
           "ticks": "",
           "title": {
            "standoff": 15
           },
           "zerolinecolor": "white",
           "zerolinewidth": 2
          },
          "yaxis": {
           "automargin": true,
           "gridcolor": "white",
           "linecolor": "white",
           "ticks": "",
           "title": {
            "standoff": 15
           },
           "zerolinecolor": "white",
           "zerolinewidth": 2
          }
         }
        },
        "title": {
         "text": "FedEx stock price"
        },
        "xaxis": {
         "anchor": "y",
         "domain": [
          0,
          1
         ],
         "title": {
          "text": "Date"
         }
        },
        "yaxis": {
         "anchor": "x",
         "domain": [
          0,
          1
         ],
         "title": {
          "text": "Price (in USD)"
         }
        }
       }
      }
     },
     "metadata": {},
     "output_type": "display_data"
    }
   ],
   "source": [
    "import plotly.express as px\n",
    "fig = px.line(df, x='date', y='Close', labels={'date':'Date', 'Close':'Price (in USD)'}, title='FedEx stock price')\n",
    "fig.show()"
   ]
  },
  {
   "cell_type": "code",
   "execution_count": 20,
   "metadata": {},
   "outputs": [],
   "source": [
    "# cloud = WordCloud(background_color='white').generate('This is me, you now who it is this is what it is')\n",
    "# plt.imshow(cloud, interpolation='bilinear')\n",
    "# plt.show()\n",
    "# # Import the stop words\n",
    "# from sklearn.feature_extraction.text import CountVectorizer, ENGLISH_STOP_WORDS\n",
    "\n",
    "# # Define the stop words\n",
    "# my_stop_words = ENGLISH_STOP_WORDS.union(['airline', 'airlines', '@'])\n",
    "\n",
    "# # Build and fit the vectorizer\n",
    "# vect = CountVectorizer(stop_words=my_stop_words)\n",
    "# vect.fit(tweets.text)\n",
    "\n",
    "# # Create the bow representation\n",
    "# X_review = vect.transform(tweets.text)\n",
    "# # Create the data frame\n",
    "# X_df = pd.DataFrame(X_review.toarray(), columns=vect.get_feature_names())\n",
    "# print(X_df.head())"
   ]
  },
  {
   "cell_type": "code",
   "execution_count": 2,
   "metadata": {},
   "outputs": [],
   "source": [
    "from transformers import AutoTokenizer, AutoModelForSequenceClassification\n",
    "import torch\n",
    "tokenizer = AutoTokenizer.from_pretrained(\"distilbert-base-uncased-finetuned-sst-2-english\")\n",
    "model = AutoModelForSequenceClassification.from_pretrained(\"distilbert-base-uncased-finetuned-sst-2-english\")"
   ]
  },
  {
   "cell_type": "code",
   "execution_count": null,
   "metadata": {},
   "outputs": [
    {
     "data": {
      "text/plain": [
       "tensor(1)"
      ]
     },
     "execution_count": 54,
     "metadata": {},
     "output_type": "execute_result"
    }
   ],
   "source": [
    "import torch\n",
    "tokens = tokenizer.encode('That lettuce that’s outlasting\t', return_tensors = 'pt')\n",
    "result = model(tokens)\n",
    "torch.argmax(result.logits)"
   ]
  },
  {
   "cell_type": "code",
   "execution_count": null,
   "metadata": {},
   "outputs": [
    {
     "data": {
      "text/plain": [
       "Sentiment(polarity=0.7, subjectivity=0.6000000000000001)"
      ]
     },
     "execution_count": 28,
     "metadata": {},
     "output_type": "execute_result"
    }
   ],
   "source": [
    "from textblob import TextBlob\n",
    "TextBlob('He is a good person').sentiment"
   ]
  },
  {
   "cell_type": "code",
   "execution_count": null,
   "metadata": {},
   "outputs": [
    {
     "name": "stderr",
     "output_type": "stream",
     "text": [
      "Some weights of the model checkpoint at distilbert-base-uncased were not used when initializing DistilBertForSequenceClassification: ['vocab_projector.bias', 'vocab_layer_norm.bias', 'vocab_projector.weight', 'vocab_layer_norm.weight', 'vocab_transform.bias', 'vocab_transform.weight']\n",
      "- This IS expected if you are initializing DistilBertForSequenceClassification from the checkpoint of a model trained on another task or with another architecture (e.g. initializing a BertForSequenceClassification model from a BertForPreTraining model).\n",
      "- This IS NOT expected if you are initializing DistilBertForSequenceClassification from the checkpoint of a model that you expect to be exactly identical (initializing a BertForSequenceClassification model from a BertForSequenceClassification model).\n",
      "Some weights of DistilBertForSequenceClassification were not initialized from the model checkpoint at distilbert-base-uncased and are newly initialized: ['classifier.weight', 'pre_classifier.bias', 'classifier.bias', 'pre_classifier.weight']\n",
      "You should probably TRAIN this model on a down-stream task to be able to use it for predictions and inference.\n"
     ]
    },
    {
     "data": {
      "text/plain": [
       "'LABEL_1'"
      ]
     },
     "execution_count": 33,
     "metadata": {},
     "output_type": "execute_result"
    }
   ],
   "source": [
    "import torch\n",
    "from transformers import DistilBertTokenizer, DistilBertForSequenceClassification\n",
    "\n",
    "tokenizer = DistilBertTokenizer.from_pretrained(\"distilbert-base-uncased\")\n",
    "model = DistilBertForSequenceClassification.from_pretrained(\"distilbert-base-uncased\")\n",
    "\n"
   ]
  },
  {
   "cell_type": "code",
   "execution_count": null,
   "metadata": {},
   "outputs": [
    {
     "data": {
      "text/plain": [
       "tensor(1)"
      ]
     },
     "execution_count": 43,
     "metadata": {},
     "output_type": "execute_result"
    }
   ],
   "source": [
    "inputs = tokenizer(\"you are very bad\", return_tensors=\"pt\")\n",
    "\n",
    "with torch.no_grad():\n",
    "    logits = model(**inputs).logits\n",
    "\n",
    "# predicted_class_id = logits.argmax().item()\n",
    "torch.argmax(logits)\n"
   ]
  },
  {
   "cell_type": "markdown",
   "metadata": {},
   "source": [
    "### **Model building**"
   ]
  },
  {
   "cell_type": "code",
   "execution_count": null,
   "metadata": {},
   "outputs": [],
   "source": [
    "# import findspark\n",
    "# findspark.init()"
   ]
  },
  {
   "cell_type": "code",
   "execution_count": null,
   "metadata": {},
   "outputs": [],
   "source": [
    "# from pyspark.sql import SparkSession\n",
    "# spark = SparkSession.builder.appName('sa').getOrCreate()\n",
    "# spark"
   ]
  },
  {
   "cell_type": "code",
   "execution_count": 2,
   "metadata": {},
   "outputs": [
    {
     "name": "stderr",
     "output_type": "stream",
     "text": [
      "c:\\Users\\chinn\\AppData\\Local\\Programs\\Python\\Python38\\lib\\site-packages\\gradio\\inputs.py:346: UserWarning: Usage of gradio.inputs is deprecated, and will not be supported in the future, please import your components from gradio.components\n",
      "  warnings.warn(\n",
      "c:\\Users\\chinn\\AppData\\Local\\Programs\\Python\\Python38\\lib\\site-packages\\gradio\\deprecation.py:40: UserWarning: `optional` parameter is deprecated, and it has no effect\n",
      "  warnings.warn(value)\n",
      "c:\\Users\\chinn\\AppData\\Local\\Programs\\Python\\Python38\\lib\\site-packages\\gradio\\deprecation.py:40: UserWarning: `keep_filename` parameter is deprecated, and it has no effect\n",
      "  warnings.warn(value)\n",
      "c:\\Users\\chinn\\AppData\\Local\\Programs\\Python\\Python38\\lib\\site-packages\\gradio\\outputs.py:127: UserWarning: Usage of gradio.outputs is deprecated, and will not be supported in the future, please import your components from gradio.components\n",
      "  warnings.warn(\n"
     ]
    },
    {
     "name": "stdout",
     "output_type": "stream",
     "text": [
      "Running on local URL:  http://127.0.0.1:7861\n",
      "\n",
      "To create a public link, set `share=True` in `launch()`.\n"
     ]
    },
    {
     "data": {
      "text/html": [
       "<div><iframe src=\"http://127.0.0.1:7861/\" width=\"900\" height=\"500\" allow=\"autoplay; camera; microphone; clipboard-read; clipboard-write;\" frameborder=\"0\" allowfullscreen></iframe></div>"
      ],
      "text/plain": [
       "<IPython.core.display.HTML object>"
      ]
     },
     "metadata": {},
     "output_type": "display_data"
    },
    {
     "name": "stderr",
     "output_type": "stream",
     "text": [
      "Traceback (most recent call last):\n",
      "  File \"c:\\Users\\chinn\\AppData\\Local\\Programs\\Python\\Python38\\lib\\site-packages\\gradio\\routes.py\", line 283, in run_predict\n",
      "    output = await app.blocks.process_api(\n",
      "  File \"c:\\Users\\chinn\\AppData\\Local\\Programs\\Python\\Python38\\lib\\site-packages\\gradio\\blocks.py\", line 936, in process_api\n",
      "    result = await self.call_function(fn_index, inputs, iterator)\n",
      "  File \"c:\\Users\\chinn\\AppData\\Local\\Programs\\Python\\Python38\\lib\\site-packages\\gradio\\blocks.py\", line 777, in call_function\n",
      "    prediction = await anyio.to_thread.run_sync(\n",
      "  File \"c:\\Users\\chinn\\AppData\\Local\\Programs\\Python\\Python38\\lib\\site-packages\\anyio\\to_thread.py\", line 31, in run_sync\n",
      "    return await get_asynclib().run_sync_in_worker_thread(\n",
      "  File \"c:\\Users\\chinn\\AppData\\Local\\Programs\\Python\\Python38\\lib\\site-packages\\anyio\\_backends\\_asyncio.py\", line 937, in run_sync_in_worker_thread\n",
      "    return await future\n",
      "  File \"c:\\Users\\chinn\\AppData\\Local\\Programs\\Python\\Python38\\lib\\site-packages\\anyio\\_backends\\_asyncio.py\", line 867, in run\n",
      "    result = context.run(func, *args)\n",
      "  File \"C:\\Users\\chinn\\AppData\\Local\\Temp\\ipykernel_1964\\3438735644.py\", line 18, in preprocessing\n",
      "    df_cleaned = df.text.apply(textclean) if textclean else 0\n",
      "  File \"c:\\Users\\chinn\\AppData\\Local\\Programs\\Python\\Python38\\lib\\site-packages\\pandas\\core\\series.py\", line 4433, in apply\n",
      "    return SeriesApply(self, func, convert_dtype, args, kwargs).apply()\n",
      "  File \"c:\\Users\\chinn\\AppData\\Local\\Programs\\Python\\Python38\\lib\\site-packages\\pandas\\core\\apply.py\", line 1088, in apply\n",
      "    return self.apply_standard()\n",
      "  File \"c:\\Users\\chinn\\AppData\\Local\\Programs\\Python\\Python38\\lib\\site-packages\\pandas\\core\\apply.py\", line 1143, in apply_standard\n",
      "    mapped = lib.map_infer(\n",
      "  File \"pandas\\_libs\\lib.pyx\", line 2870, in pandas._libs.lib.map_infer\n",
      "TypeError: 'bool' object is not callable\n"
     ]
    },
    {
     "name": "stdout",
     "output_type": "stream",
     "text": [
      "Keyboard interruption in main thread... closing server.\n"
     ]
    },
    {
     "data": {
      "text/plain": [
       "(<gradio.routes.App at 0x224869179a0>, 'http://127.0.0.1:7861/', None)"
      ]
     },
     "execution_count": 2,
     "metadata": {},
     "output_type": "execute_result"
    }
   ],
   "source": [
    "import gradio as gr\n",
    "import pandas as pd\n",
    "from nltk import word_tokenize\n",
    "\n",
    "def textclean(text):\n",
    "    text = re.sub(r'@[A-Za-z0-9]+', '', text) # removed @mentions\n",
    "    text = re.sub(r'#','',text) # remove the hash tag\n",
    "    text = re.sub(r'RT[\\s]+','',text) # remove RT\n",
    "    text = re.sub(r'https?:\\/\\/\\S+','',text) # Remove the hyper link\n",
    "    text = re.sub(r'&amp;','',text) # remove &amp;\n",
    "    text = re.sub(r'\\s{2,}',' ', text)  # remove extra spaces\n",
    "    text = re.sub(r'^\\s+','',text)  # remove starting extra spaces\n",
    "    return text\n",
    "\n",
    "def preprocessing(data, textclean):\n",
    "    df = pd.read_csv(data.name)\n",
    "    df.rename(columns = {df.columns[0]: 'text'}, inplace=True)\n",
    "    df_cleaned = df.text.apply(textclean) if textclean else 0\n",
    "    return df, df_cleaned\n",
    "\n",
    "\n",
    "iface = gr.Interface(fn=preprocessing,\n",
    "            inputs= [gr.inputs.File(label='CSV file'),\n",
    "                    'checkbox'],\n",
    "            outputs= [gr.outputs.Dataframe(label='Original data'),\n",
    "                     gr.outputs.Dataframe(label='Cleaned data')], \n",
    "            allow_flagging='never',\n",
    "            title='NLP text automation')\n",
    "iface.launch(enable_queue=False, debug = True)\n"
   ]
  },
  {
   "cell_type": "code",
   "execution_count": 5,
   "metadata": {},
   "outputs": [
    {
     "name": "stderr",
     "output_type": "stream",
     "text": [
      "C:\\Users\\chinn\\AppData\\Local\\Temp\\ipykernel_1964\\497376691.py:3: FutureWarning: Passing a negative integer is deprecated in version 1.0 and will not be supported in future version. Instead, use None to not limit the column width.\n",
      "  pd.set_option('max_colwidth', -1)\n"
     ]
    }
   ],
   "source": [
    "pd.set_option('display.max_columns', None)\n",
    "pd.set_option('display.expand_frame_repr', False)\n",
    "pd.set_option('max_colwidth', -1)"
   ]
  },
  {
   "cell_type": "code",
   "execution_count": 1,
   "metadata": {},
   "outputs": [],
   "source": [
    "import pandas as pd\n",
    "from nltk import word_tokenize\n",
    "df = pd.read_csv('assets/Precily_Text_Similarity.csv')\n",
    "df.rename(columns = {df.columns[0]: 'text'}, inplace=True)\n",
    "tokens = [word_tokenize(item) for item in df.text]\n",
    "df['tokens'] = tokens"
   ]
  },
  {
   "cell_type": "code",
   "execution_count": 15,
   "metadata": {},
   "outputs": [
    {
     "name": "stdout",
     "output_type": "stream",
     "text": [
      "0       broadband challenges tv viewing the number of ...\n",
      "1       rap boss arrested over drug find rap mogul mar...\n",
      "2       player burn-out worries robinson england coach...\n",
      "3       hearts of oak 3-2 cotonsport hearts of oak set...\n",
      "4       sir paul rocks super bowl crowds sir paul mcca...\n",
      "                              ...                        \n",
      "2995    uk directors guild nominees named martin scors...\n",
      "2996    u2 to play at grammy awards show irish rock ba...\n",
      "2997    pountney handed ban and fine northampton coach...\n",
      "2998    belle named  best scottish band  belle & sebas...\n",
      "2999    criminal probe on citigroup deals traders at u...\n",
      "Name: text, Length: 3000, dtype: object\n",
      "0       gardener wins double in glasgow britain s jaso...\n",
      "1       amnesty chief laments war failure the lack of ...\n",
      "2       hanks greeted at wintry premiere hollywood sta...\n",
      "3       redford s vision of sundance despite sporting ...\n",
      "4       mauresmo opens with victory in la amelie maure...\n",
      "                              ...                        \n",
      "2995    steel firm  to cut  45 000 jobs mittal steel  ...\n",
      "2996    israel looks to us for bank chief israel has a...\n",
      "2997    india and iran in gas export deal india has si...\n",
      "2998    mido makes third apology ahmed  mido  hossam h...\n",
      "2999    former ni minister scott dies former northern ...\n",
      "Name: text2, Length: 3000, dtype: object\n",
      "0       [broadband, challenges, tv, viewing, the, numb...\n",
      "1       [rap, boss, arrested, over, drug, find, rap, m...\n",
      "2       [player, burn-out, worries, robinson, england,...\n",
      "3       [hearts, of, oak, 3-2, cotonsport, hearts, of,...\n",
      "4       [sir, paul, rocks, super, bowl, crowds, sir, p...\n",
      "                              ...                        \n",
      "2995    [uk, directors, guild, nominees, named, martin...\n",
      "2996    [u2, to, play, at, grammy, awards, show, irish...\n",
      "2997    [pountney, handed, ban, and, fine, northampton...\n",
      "2998    [belle, named, best, scottish, band, belle, &,...\n",
      "2999    [criminal, probe, on, citigroup, deals, trader...\n",
      "Name: tokens, Length: 3000, dtype: object\n"
     ]
    }
   ],
   "source": [
    "for i in df.columns:\n",
    "    print(df[i])"
   ]
  },
  {
   "cell_type": "code",
   "execution_count": 16,
   "metadata": {},
   "outputs": [
    {
     "name": "stdout",
     "output_type": "stream",
     "text": [
      "text\n",
      "text2\n",
      "tokens\n"
     ]
    }
   ],
   "source": [
    "from nltk.corpus import stopwords\n",
    "from nltk.tokenize import word_tokenize\n",
    "def stopwords(df, column):\n",
    "    stop_words = set(stopwords.words('english'))\n",
    "    "
   ]
  },
  {
   "cell_type": "code",
   "execution_count": 13,
   "metadata": {},
   "outputs": [
    {
     "ename": "KeyError",
     "evalue": "'broadband challenges tv viewing the number of europeans with broadband has exploded over the past 12 months  with the web eating into tv viewing habits  research suggests.  just over 54 million people are hooked up to the net via broadband  up from 34 million a year ago  according to market analysts nielsen/netratings. the total number of people online in europe has broken the 100 million mark. the popularity of the net has meant that many are turning away from tv  say analysts jupiter research. it found that a quarter of web users said they spent less time watching tv in favour of the net  the report by nielsen/netratings found that the number of people with fast internet access had risen by 60% over the past year.  the biggest jump was in italy  where it rose by 120%. britain was close behind  with broadband users almost doubling in a year. the growth has been fuelled by lower prices and a wider choice of always-on  fast-net subscription plans.  twelve months ago high speed internet users made up just over one third of the audience in europe; now they are more than 50% and we expect this number to keep growing   said gabrielle prior  nielsen/netratings analyst.  as the number of high-speed surfers grows  websites will need to adapt  update and enhance their content to retain their visitors and encourage new ones.  the total number of europeans online rose by 12% to 100 million over the past year  the report showed  with the biggest rise in france  italy  britain and germany.  the ability to browse web pages at high speed  download files such as music or films and play online games is changing what people do in their spare time.  a study by analysts jupiter research suggested that broadband was challenging television viewing habits. in homes with broadband  40% said they were spending less time watching tv. the threat to tv was greatest in countries where broadband was on the up  in particular the uk  france and spain  said the report. it said tv companies faced a major long-term threat over the next five years  with broadband predicted to grow from 19% to 37% of households by 2009.  year-on-year we are continuing to see a seismic shift in where  when and how europe s population consume media for information and entertainment and this has big implications for tv  newspaper and radio   said jupiter research analyst olivier beauvillian.'",
     "output_type": "error",
     "traceback": [
      "\u001b[1;31m---------------------------------------------------------------------------\u001b[0m",
      "\u001b[1;31mKeyError\u001b[0m                                  Traceback (most recent call last)",
      "Cell \u001b[1;32mIn [13], line 10\u001b[0m\n\u001b[0;32m      7\u001b[0m     df[\u001b[39m'\u001b[39m\u001b[39mstop_tokens\u001b[39m\u001b[39m'\u001b[39m][i] \u001b[39m=\u001b[39m text\n\u001b[0;32m      8\u001b[0m   \u001b[39mreturn\u001b[39;00m df\n\u001b[1;32m---> 10\u001b[0m nostopwords(df[\u001b[39m'\u001b[39;49m\u001b[39mtext\u001b[39;49m\u001b[39m'\u001b[39;49m])\n",
      "Cell \u001b[1;32mIn [13], line 5\u001b[0m, in \u001b[0;36mnostopwords\u001b[1;34m(df)\u001b[0m\n\u001b[0;32m      3\u001b[0m nlp \u001b[39m=\u001b[39m spacy\u001b[39m.\u001b[39mload(\u001b[39m'\u001b[39m\u001b[39men_core_web_sm\u001b[39m\u001b[39m'\u001b[39m)\n\u001b[0;32m      4\u001b[0m \u001b[39mfor\u001b[39;00m i \u001b[39min\u001b[39;00m df:\n\u001b[1;32m----> 5\u001b[0m   sentence \u001b[39m=\u001b[39m nlp(df[i])\n\u001b[0;32m      6\u001b[0m   text \u001b[39m=\u001b[39m [word \u001b[39mfor\u001b[39;00m word \u001b[39min\u001b[39;00m sentence \u001b[39mif\u001b[39;00m \u001b[39mnot\u001b[39;00m word\u001b[39m.\u001b[39mis_stop \u001b[39mand\u001b[39;00m \u001b[39mnot\u001b[39;00m word\u001b[39m.\u001b[39mis_punct]\n\u001b[0;32m      7\u001b[0m   df[\u001b[39m'\u001b[39m\u001b[39mstop_tokens\u001b[39m\u001b[39m'\u001b[39m][i] \u001b[39m=\u001b[39m text\n",
      "File \u001b[1;32mc:\\Users\\chinn\\AppData\\Local\\Programs\\Python\\Python38\\lib\\site-packages\\pandas\\core\\series.py:958\u001b[0m, in \u001b[0;36mSeries.__getitem__\u001b[1;34m(self, key)\u001b[0m\n\u001b[0;32m    955\u001b[0m     \u001b[39mreturn\u001b[39;00m \u001b[39mself\u001b[39m\u001b[39m.\u001b[39m_values[key]\n\u001b[0;32m    957\u001b[0m \u001b[39melif\u001b[39;00m key_is_scalar:\n\u001b[1;32m--> 958\u001b[0m     \u001b[39mreturn\u001b[39;00m \u001b[39mself\u001b[39;49m\u001b[39m.\u001b[39;49m_get_value(key)\n\u001b[0;32m    960\u001b[0m \u001b[39mif\u001b[39;00m is_hashable(key):\n\u001b[0;32m    961\u001b[0m     \u001b[39m# Otherwise index.get_value will raise InvalidIndexError\u001b[39;00m\n\u001b[0;32m    962\u001b[0m     \u001b[39mtry\u001b[39;00m:\n\u001b[0;32m    963\u001b[0m         \u001b[39m# For labels that don't resolve as scalars like tuples and frozensets\u001b[39;00m\n",
      "File \u001b[1;32mc:\\Users\\chinn\\AppData\\Local\\Programs\\Python\\Python38\\lib\\site-packages\\pandas\\core\\series.py:1069\u001b[0m, in \u001b[0;36mSeries._get_value\u001b[1;34m(self, label, takeable)\u001b[0m\n\u001b[0;32m   1066\u001b[0m     \u001b[39mreturn\u001b[39;00m \u001b[39mself\u001b[39m\u001b[39m.\u001b[39m_values[label]\n\u001b[0;32m   1068\u001b[0m \u001b[39m# Similar to Index.get_value, but we do not fall back to positional\u001b[39;00m\n\u001b[1;32m-> 1069\u001b[0m loc \u001b[39m=\u001b[39m \u001b[39mself\u001b[39;49m\u001b[39m.\u001b[39;49mindex\u001b[39m.\u001b[39;49mget_loc(label)\n\u001b[0;32m   1070\u001b[0m \u001b[39mreturn\u001b[39;00m \u001b[39mself\u001b[39m\u001b[39m.\u001b[39mindex\u001b[39m.\u001b[39m_get_values_for_loc(\u001b[39mself\u001b[39m, loc, label)\n",
      "File \u001b[1;32mc:\\Users\\chinn\\AppData\\Local\\Programs\\Python\\Python38\\lib\\site-packages\\pandas\\core\\indexes\\range.py:389\u001b[0m, in \u001b[0;36mRangeIndex.get_loc\u001b[1;34m(self, key, method, tolerance)\u001b[0m\n\u001b[0;32m    387\u001b[0m             \u001b[39mraise\u001b[39;00m \u001b[39mKeyError\u001b[39;00m(key) \u001b[39mfrom\u001b[39;00m \u001b[39merr\u001b[39;00m\n\u001b[0;32m    388\u001b[0m     \u001b[39mself\u001b[39m\u001b[39m.\u001b[39m_check_indexing_error(key)\n\u001b[1;32m--> 389\u001b[0m     \u001b[39mraise\u001b[39;00m \u001b[39mKeyError\u001b[39;00m(key)\n\u001b[0;32m    390\u001b[0m \u001b[39mreturn\u001b[39;00m \u001b[39msuper\u001b[39m()\u001b[39m.\u001b[39mget_loc(key, method\u001b[39m=\u001b[39mmethod, tolerance\u001b[39m=\u001b[39mtolerance)\n",
      "\u001b[1;31mKeyError\u001b[0m: 'broadband challenges tv viewing the number of europeans with broadband has exploded over the past 12 months  with the web eating into tv viewing habits  research suggests.  just over 54 million people are hooked up to the net via broadband  up from 34 million a year ago  according to market analysts nielsen/netratings. the total number of people online in europe has broken the 100 million mark. the popularity of the net has meant that many are turning away from tv  say analysts jupiter research. it found that a quarter of web users said they spent less time watching tv in favour of the net  the report by nielsen/netratings found that the number of people with fast internet access had risen by 60% over the past year.  the biggest jump was in italy  where it rose by 120%. britain was close behind  with broadband users almost doubling in a year. the growth has been fuelled by lower prices and a wider choice of always-on  fast-net subscription plans.  twelve months ago high speed internet users made up just over one third of the audience in europe; now they are more than 50% and we expect this number to keep growing   said gabrielle prior  nielsen/netratings analyst.  as the number of high-speed surfers grows  websites will need to adapt  update and enhance their content to retain their visitors and encourage new ones.  the total number of europeans online rose by 12% to 100 million over the past year  the report showed  with the biggest rise in france  italy  britain and germany.  the ability to browse web pages at high speed  download files such as music or films and play online games is changing what people do in their spare time.  a study by analysts jupiter research suggested that broadband was challenging television viewing habits. in homes with broadband  40% said they were spending less time watching tv. the threat to tv was greatest in countries where broadband was on the up  in particular the uk  france and spain  said the report. it said tv companies faced a major long-term threat over the next five years  with broadband predicted to grow from 19% to 37% of households by 2009.  year-on-year we are continuing to see a seismic shift in where  when and how europe s population consume media for information and entertainment and this has big implications for tv  newspaper and radio   said jupiter research analyst olivier beauvillian.'"
     ]
    }
   ],
   "source": [
    "import spacy\n",
    "\n",
    "def nostopwords(text):\n",
    "  nlp = spacy.load('en_core_web_sm')\n",
    "  sentence = nlp(text)\n",
    "  text = [word.text.strip() for word in sentence if not word.is_stop and not word.is_punct]\n",
    "  return text\n",
    "\n",
    "nostopwords()"
   ]
  },
  {
   "cell_type": "code",
   "execution_count": null,
   "metadata": {},
   "outputs": [],
   "source": []
  }
 ],
 "metadata": {
  "kernelspec": {
   "display_name": "Python 3",
   "language": "python",
   "name": "python3"
  },
  "language_info": {
   "codemirror_mode": {
    "name": "ipython",
    "version": 3
   },
   "file_extension": ".py",
   "mimetype": "text/x-python",
   "name": "python",
   "nbconvert_exporter": "python",
   "pygments_lexer": "ipython3",
   "version": "3.8.0"
  },
  "orig_nbformat": 4,
  "vscode": {
   "interpreter": {
    "hash": "90a0f2c3a9f249079dbc8efbd290dbce1e1949696e8cdd244d7184cd10e2e446"
   }
  }
 },
 "nbformat": 4,
 "nbformat_minor": 2
}
